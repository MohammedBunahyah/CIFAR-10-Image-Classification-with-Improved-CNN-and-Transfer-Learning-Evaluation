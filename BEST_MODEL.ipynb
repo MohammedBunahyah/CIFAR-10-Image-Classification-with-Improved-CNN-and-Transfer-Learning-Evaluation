{
  "cells": [
    {
      "cell_type": "markdown",
      "metadata": {
        "id": "6mxG-_AfAJlp"
      },
      "source": [
        "## Project | Deep Learning: Image Classification with CNN"
      ]
    },
    {
      "cell_type": "markdown",
      "metadata": {
        "id": "fWE6B29DASDY"
      },
      "source": [
        "# Data Preprocessing"
      ]
    },
    {
      "cell_type": "code",
      "execution_count": 9,
      "metadata": {
        "id": "ARgc0cukK4l4"
      },
      "outputs": [],
      "source": [
        "import tensorflow as tf\n",
        "from tensorflow.keras.datasets import cifar10\n",
        "import matplotlib.pyplot as plt\n",
        "import numpy as np\n",
        "from tensorflow.keras.utils import to_categorical\n",
        "from tensorflow import keras\n",
        "from tensorflow.keras import layers, models\n",
        "from tensorflow.keras.models import Sequential, Model\n",
        "from tensorflow.keras.layers import Conv2D, MaxPooling2D, Flatten, Dense, BatchNormalization, Dropout\n",
        "from tensorflow.keras.optimizers import Adam\n",
        "from tensorflow.keras.callbacks import EarlyStopping, ReduceLROnPlateau\n",
        "from sklearn.metrics import accuracy_score, precision_score, recall_score, f1_score, confusion_matrix, classification_report, ConfusionMatrixDisplay\n",
        "import seaborn as sns\n",
        "from tensorflow.keras.regularizers import l2\n",
        "from tensorflow.keras.applications import VGG16\n",
        "\n"
      ]
    },
    {
      "cell_type": "code",
      "execution_count": 10,
      "metadata": {
        "id": "Ivef_u0AfYky"
      },
      "outputs": [],
      "source": [
        "# Load CIFAR-10 dataset\n",
        "(X_train, y_train), (X_test, y_test) = cifar10.load_data()\n",
        "\n"
      ]
    },
    {
      "cell_type": "code",
      "execution_count": 11,
      "metadata": {
        "id": "kgFtCyl4RF69"
      },
      "outputs": [],
      "source": [
        "# Normalize images to [0,1] range\n",
        "X_train, X_test = X_train / 255.0, X_test / 255.0\n",
        "\n",
        "# Convert labels to one-hot encoding\n",
        "y_train = to_categorical(y_train, 10)\n",
        "y_test = to_categorical(y_test, 10)\n"
      ]
    },
    {
      "cell_type": "code",
      "execution_count": 12,
      "metadata": {
        "id": "QvRexmkbH0xP"
      },
      "outputs": [],
      "source": [
        "# classes names\n",
        "class_names = ['airplane', 'automobile', 'bird', 'cat', 'deer', 'dog', 'frog', 'horse', 'ship', 'truck']"
      ]
    },
    {
      "cell_type": "code",
      "execution_count": 13,
      "metadata": {
        "id": "zUdJdXLIfY7s"
      },
      "outputs": [],
      "source": [
        "#Data Augmentation\n",
        "from tensorflow.keras.preprocessing.image import ImageDataGenerator\n",
        "\n",
        "datagen = ImageDataGenerator(\n",
        "    rotation_range=20, width_shift_range=0.2,\n",
        "    height_shift_range=0.2, horizontal_flip=True\n",
        ")\n",
        "datagen.fit(X_train)\n"
      ]
    },
    {
      "cell_type": "code",
      "execution_count": 14,
      "metadata": {
        "colab": {
          "base_uri": "https://localhost:8080/",
          "height": 170
        },
        "id": "ly9bqBbZfZPD",
        "outputId": "47703c00-ca18-4b4c-e932-3251d38d582d"
      },
      "outputs": [
        {
          "data": {
            "image/png": "[encoded data removed]",
            "text/plain": [
              "<Figure size 1000x300 with 5 Axes>"
            ]
          },
          "metadata": {},
          "output_type": "display_data"
        }
      ],
      "source": [
        "# Visualizing Sample Images\n",
        "\n",
        "fig, axes = plt.subplots(1, 5, figsize=(10, 3))\n",
        "for i in range(5):\n",
        "    axes[i].imshow(X_train[i])\n",
        "    axes[i].axis(\"off\")\n",
        "plt.show()\n"
      ]
    },
    {
      "cell_type": "code",
      "execution_count": 16,
      "metadata": {
        "colab": {
          "base_uri": "https://localhost:8080/",
          "height": 363
        },
        "id": "Axv-93egHfkG",
        "outputId": "4b42a8c2-ca36-4e6e-a5ea-28a469c844c7"
      },
      "outputs": [
        {
          "ename": "TypeError",
          "evalue": "list indices must be integers or slices, not numpy.float64",
          "output_type": "error",
          "traceback": [
            "\u001b[0;31m---------------------------------------------------------------------------\u001b[0m",
            "\u001b[0;31mTypeError\u001b[0m                                 Traceback (most recent call last)",
            "\u001b[0;32m<ipython-input-16-9d75b8d3dbb0>\u001b[0m in \u001b[0;36m<cell line: 0>\u001b[0;34m()\u001b[0m\n\u001b[1;32m      7\u001b[0m     \u001b[0mplt\u001b[0m\u001b[0;34m.\u001b[0m\u001b[0mgrid\u001b[0m\u001b[0;34m(\u001b[0m\u001b[0;32mFalse\u001b[0m\u001b[0;34m)\u001b[0m\u001b[0;34m\u001b[0m\u001b[0;34m\u001b[0m\u001b[0m\n\u001b[1;32m      8\u001b[0m     \u001b[0mplt\u001b[0m\u001b[0;34m.\u001b[0m\u001b[0mimshow\u001b[0m\u001b[0;34m(\u001b[0m\u001b[0mX_train\u001b[0m\u001b[0;34m[\u001b[0m\u001b[0mi\u001b[0m\u001b[0;34m]\u001b[0m\u001b[0;34m,\u001b[0m \u001b[0mcmap\u001b[0m\u001b[0;34m=\u001b[0m\u001b[0mplt\u001b[0m\u001b[0;34m.\u001b[0m\u001b[0mcm\u001b[0m\u001b[0;34m.\u001b[0m\u001b[0mbinary\u001b[0m\u001b[0;34m)\u001b[0m\u001b[0;34m\u001b[0m\u001b[0;34m\u001b[0m\u001b[0m\n\u001b[0;32m----> 9\u001b[0;31m     \u001b[0mplt\u001b[0m\u001b[0;34m.\u001b[0m\u001b[0mxlabel\u001b[0m\u001b[0;34m(\u001b[0m\u001b[0mclass_names\u001b[0m\u001b[0;34m[\u001b[0m\u001b[0my_train\u001b[0m\u001b[0;34m[\u001b[0m\u001b[0mi\u001b[0m\u001b[0;34m]\u001b[0m\u001b[0;34m[\u001b[0m\u001b[0;36m0\u001b[0m\u001b[0;34m]\u001b[0m\u001b[0;34m]\u001b[0m\u001b[0;34m)\u001b[0m\u001b[0;34m\u001b[0m\u001b[0;34m\u001b[0m\u001b[0m\n\u001b[0m\u001b[1;32m     10\u001b[0m \u001b[0mplt\u001b[0m\u001b[0;34m.\u001b[0m\u001b[0mshow\u001b[0m\u001b[0;34m(\u001b[0m\u001b[0;34m)\u001b[0m\u001b[0;34m\u001b[0m\u001b[0;34m\u001b[0m\u001b[0m\n\u001b[1;32m     11\u001b[0m \u001b[0;34m\u001b[0m\u001b[0m\n",
            "\u001b[0;31mTypeError\u001b[0m: list indices must be integers or slices, not numpy.float64"
          ]
        },
        {
          "data": {
            "image/png": "[encoded data removed]",
            "text/plain": [
              "<Figure size 1000x1000 with 1 Axes>"
            ]
          },
          "metadata": {},
          "output_type": "display_data"
        }
      ],
      "source": [
        "#visualizations\n",
        "plt.figure(figsize=(10, 10))\n",
        "for i in range(25):\n",
        "    plt.subplot(5, 5, i + 1)\n",
        "    plt.xticks([])\n",
        "    plt.yticks([])\n",
        "    plt.grid(False)\n",
        "    plt.imshow(X_train[i], cmap=plt.cm.binary)\n",
        "    plt.xlabel(class_names[y_train[i][0]])\n",
        "plt.show()\n"
      ]
    },
    {
      "cell_type": "markdown",
      "metadata": {
        "id": "MgQth4gkAWFS"
      },
      "source": [
        "# Model Architecture"
      ]
    },
    {
      "cell_type": "code",
      "execution_count": null,
      "metadata": {
        "id": "DyE45qsvfZZ5"
      },
      "outputs": [],
      "source": [
        "# Building the CNN Model\n",
        "\n",
        "from tensorflow.keras.models import Sequential\n",
        "from tensorflow.keras.layers import Conv2D, MaxPooling2D, Flatten, Dense, Dropout, BatchNormalization\n",
        "from tensorflow.keras.optimizers import Adam\n",
        "from tensorflow.keras.regularizers import l2\n",
        "\n",
        "# Define improved CNN model with regularization\n",
        "model = Sequential([\n",
        "    Conv2D(64, (3,3), activation='relu', padding='same', input_shape=(32, 32, 3), kernel_regularizer=l2(0.001)),\n",
        "    BatchNormalization(),\n",
        "    Conv2D(64, (3,3), activation='relu', padding='same', kernel_regularizer=l2(0.001)),\n",
        "    MaxPooling2D(2,2),\n",
        "    Dropout(0.3),  # Increased Dropout\n",
        "\n",
        "    Conv2D(128, (3,3), activation='relu', padding='same', kernel_regularizer=l2(0.001)),\n",
        "    BatchNormalization(),\n",
        "    Conv2D(128, (3,3), activation='relu', padding='same', kernel_regularizer=l2(0.001)),\n",
        "    MaxPooling2D(2,2),\n",
        "    Dropout(0.4),  # Increased Dropout\n",
        "\n",
        "    Conv2D(256, (3,3), activation='relu', padding='same', kernel_regularizer=l2(0.001)),\n",
        "    BatchNormalization(),\n",
        "    Conv2D(256, (3,3), activation='relu', padding='same', kernel_regularizer=l2(0.001)),\n",
        "    MaxPooling2D(2,2),\n",
        "    Dropout(0.5),  # Increased Dropout\n",
        "\n",
        "    Flatten(),\n",
        "    Dense(1024, activation='relu', kernel_regularizer=l2(0.001)),\n",
        "    Dropout(0.5),  # Increased Dropout\n",
        "    Dense(10, activation='softmax')  # Output layer for 10 classes\n",
        "])\n",
        "\n",
        "# Compile model with lower learning rate\n",
        "model.compile(optimizer=Adam(learning_rate=0.0003),  # Reduced LR\n",
        "              loss='categorical_crossentropy',\n",
        "              metrics=['accuracy'])\n",
        "\n",
        "model.summary()\n"
      ]
    },
    {
      "cell_type": "markdown",
      "metadata": {
        "id": "kilFIu96AhUi"
      },
      "source": [
        "##  Model Training"
      ]
    },
    {
      "cell_type": "code",
      "execution_count": null,
      "metadata": {
        "id": "gy3nDi9jfZo3"
      },
      "outputs": [],
      "source": [
        "#  Model Training\n",
        "\n",
        "from tensorflow.keras.callbacks import ReduceLROnPlateau\n",
        "\n",
        "# Adjust ReduceLROnPlateau for better optimization\n",
        "lr_scheduler = ReduceLROnPlateau(monitor='val_accuracy', patience=5, factor=0.5, verbose=1)\n",
        "\n",
        "# Train the improved CNN model with a larger batch size\n",
        "history = model.fit(datagen.flow(X_train, y_train, batch_size=128),\n",
        "                    epochs=50,  # Increased epochs\n",
        "                    validation_data=(X_test, y_test),\n",
        "                    callbacks=[lr_scheduler])\n"
      ]
    },
    {
      "cell_type": "code",
      "execution_count": null,
      "metadata": {
        "id": "gYUqs0XSbHm-"
      },
      "outputs": [],
      "source": [
        "model.save(\"model_5.h5\")"
      ]
    },
    {
      "cell_type": "markdown",
      "metadata": {
        "id": "j05fOTl3Ars0"
      },
      "source": [
        "##Model Evaluation"
      ]
    },
    {
      "cell_type": "code",
      "execution_count": null,
      "metadata": {
        "id": "S7RkngvFH8aJ"
      },
      "outputs": [],
      "source": [
        "\n",
        "# Evaluate the  CNN model\n",
        "test_loss, test_acc = model.evaluate(X_test, y_test)\n",
        "print(f\"Improved CNN Model Test Accuracy: {test_acc:.4f}\")"
      ]
    },
    {
      "cell_type": "code",
      "execution_count": null,
      "metadata": {
        "id": "XNioBDNGf3iD"
      },
      "outputs": [],
      "source": [
        "# Create a figure with 1 row and 2 columns for subplots\n",
        "fig, axs = plt.subplots(1, 2, figsize=(10, 5))\n",
        "\n",
        "# Plot Accuracy  & validation accuracy\n",
        "axs[0].plot(history.history['accuracy'], label='Train Accuracy',color='blue')\n",
        "axs[0].plot(history.history['val_accuracy'], label='Validation Accuracy',color='red')\n",
        "axs[0].legend()\n",
        "axs[0].set_title('Model Accuracy')\n",
        "axs[0].set_xlabel('Epochs')\n",
        "axs[0].set_ylabel('Accuracy')\n",
        "axs[0].grid(True);\n",
        "\n",
        "\n",
        "# Plot training & validation loss\n",
        "axs[1].plot(history.history['loss'], label='Train Loss', color='blue')\n",
        "axs[1].plot(history.history['val_loss'], label='Validation Loss', color='red')\n",
        "axs[1].set_title('Loss Curve')\n",
        "axs[1].set_xlabel('Epochs')\n",
        "axs[1].set_ylabel('Loss')\n",
        "axs[1].legend()\n",
        "axs[1].grid(True);\n",
        "\n",
        "plt.tight_layout()\n",
        "plt.show() # Display the plots\n"
      ]
    },
    {
      "cell_type": "code",
      "execution_count": null,
      "metadata": {
        "id": "XTsL1gzDIXmv"
      },
      "outputs": [],
      "source": [
        "\n",
        "# Predict labels\n",
        "y_pred = np.argmax(model.predict(X_test), axis=1)\n",
        "y_true = np.argmax(y_test, axis=1)"
      ]
    },
    {
      "cell_type": "code",
      "execution_count": null,
      "metadata": {
        "id": "PyW7pBGKf3fm"
      },
      "outputs": [],
      "source": [
        "# Compute confusion matrix\n",
        "conf_matrix = confusion_matrix(y_true, y_pred)\n",
        "\n",
        "# Plot confusion matrix\n",
        "disp = ConfusionMatrixDisplay(confusion_matrix=conf_matrix,display_labels=class_names)\n",
        "fig, ax = plt.subplots(figsize=(8, 6))\n",
        "disp.plot(xticks_rotation='vertical', ax=ax,cmap=\"Blues\")\n",
        "plt.title(\"Confusion Matrix\")\n",
        "plt.xlabel(\"Predicted\")\n",
        "plt.ylabel(\"Actual\")\n",
        "plt.show()\n",
        "\n"
      ]
    },
    {
      "cell_type": "code",
      "execution_count": null,
      "metadata": {
        "id": "Kj7kssxbIqwG"
      },
      "outputs": [],
      "source": [
        "# Compute accuracy, precision, recall, and F1-score for the model's performance\n",
        "accuracy = accuracy_score(y_true, y_pred)\n",
        "precision = precision_score(y_true, y_pred, average='weighted')\n",
        "recall = recall_score(y_true, y_pred, average='weighted')\n",
        "f1= f1_score(y_true, y_pred, average='weighted')\n",
        "\n",
        "# Print metrics\n",
        "print(f'Accuracy: {accuracy:.4f}')\n",
        "print(f'Precision: {precision:.4f}')\n",
        "print(f'Recall: {recall:.4f}')\n",
        "print(f'F1-score: {f1:.4f}')"
      ]
    },
    {
      "cell_type": "code",
      "execution_count": null,
      "metadata": {
        "id": "cgvJR3qwI3BV"
      },
      "outputs": [],
      "source": [
        "# print a detailed classification report\n",
        "print(classification_report(y_true, y_pred))"
      ]
    },
    {
      "cell_type": "markdown",
      "metadata": {
        "id": "uS9x8w8fAyk7"
      },
      "source": [
        "##Transfer Learning"
      ]
    },
    {
      "cell_type": "markdown",
      "metadata": {
        "id": "dCPNt9VKAyVY"
      },
      "source": [
        "##improve the model using transfer learning using a pre-trained model VGG16, using PyTorch. We will load the pre-trained VGG16 model and train the new model on the CIFAR-10 dataset."
      ]
    },
    {
      "cell_type": "code",
      "execution_count": null,
      "metadata": {
        "id": "OUYd5TMg3RkV"
      },
      "outputs": [],
      "source": [
        "import torch\n",
        "import torchvision.models as models\n",
        "import torchvision.transforms as transforms\n",
        "from torchvision.datasets import CIFAR10\n",
        "from torch.utils.data import DataLoader\n",
        "import torch.nn as nn\n",
        "import torch.optim as optim\n",
        "import numpy as np\n",
        "\n",
        "# 1. Load Pre-trained VGG16 Model\n",
        "vgg16 = models.vgg16(pretrained=True)\n",
        "\n",
        "# 2. Freeze Pre-trained Layers\n",
        "for param in vgg16.parameters():\n",
        "    param.requires_grad = False\n",
        "\n",
        "# 3. Modify the Classifier for CIFAR-10 (10 classes)\n",
        "num_features = vgg16.classifier[6].in_features\n",
        "vgg16.classifier[6] = nn.Linear(num_features, 10)  # Replace the last layer\n",
        "\n",
        "# 4. Define Transformations\n",
        "transform_train = transforms.Compose([\n",
        "    transforms.Resize((224, 224)),  # Resize images for VGG16 input\n",
        "    transforms.RandomHorizontalFlip(),\n",
        "    transforms.ToTensor(),\n",
        "    transforms.Normalize(mean=[0.485, 0.456, 0.406], std=[0.229, 0.224, 0.225])\n",
        "])\n",
        "\n",
        "transform_test = transforms.Compose([\n",
        "    transforms.Resize((224, 224)),\n",
        "    transforms.ToTensor(),\n",
        "    transforms.Normalize(mean=[0.485, 0.456, 0.406], std=[0.229, 0.224, 0.225])\n",
        "])\n",
        "\n",
        "# 5. Load CIFAR-10 Dataset\n",
        "train_dataset = CIFAR10(root='./data', train=True, download=True, transform=transform_train)\n",
        "test_dataset = CIFAR10(root='./data', train=False, download=True, transform=transform_test)\n",
        "\n",
        "train_loader = DataLoader(train_dataset, batch_size=64, shuffle=True)\n",
        "test_loader = DataLoader(test_dataset, batch_size=64, shuffle=False)\n",
        "\n",
        "# 6. Define Loss Function and Optimizer\n",
        "criterion = nn.CrossEntropyLoss()\n",
        "optimizer = optim.Adam(vgg16.classifier[6].parameters(), lr=0.001)  # Only optimize the classifier\n",
        "\n",
        "# 7. Move Model to GPU (if available)\n",
        "device = torch.device(\"cuda:0\" if torch.cuda.is_available() else \"cpu\")\n",
        "vgg16.to(device)\n",
        "\n",
        "# 8. Training Loop\n",
        "epochs = 10\n",
        "for epoch in range(epochs):\n",
        "    vgg16.train()\n",
        "    running_loss = 0.0\n",
        "    for inputs, labels in train_loader:\n",
        "        inputs, labels = inputs.to(device), labels.to(device)\n",
        "        optimizer.zero_grad()\n",
        "        outputs = vgg16(inputs)\n",
        "        loss = criterion(outputs, labels)\n",
        "        loss.backward()\n",
        "        optimizer.step()\n",
        "        running_loss += loss.item()\n",
        "    print(f\"Epoch {epoch+1}, Loss: {running_loss/len(train_loader)}\")\n",
        "\n",
        "# 9. Evaluation\n",
        "vgg16.eval()\n",
        "correct = 0\n",
        "total = 0\n",
        "with torch.no_grad():\n",
        "    for inputs, labels in test_loader:\n",
        "        inputs, labels = inputs.to(device), labels.to(device)\n",
        "        outputs = vgg16(inputs)\n",
        "        _, predicted = torch.max(outputs.data, 1)\n",
        "        total += labels.size(0)\n",
        "        correct += (predicted == labels).sum().item()\n",
        "\n",
        "accuracy = 100 * correct / total\n",
        "print(f\"Accuracy on the test set: {accuracy}%\")\n"
      ]
    },
    {
      "cell_type": "code",
      "execution_count": null,
      "metadata": {
        "id": "FMmX5hNSJEbF"
      },
      "outputs": [],
      "source": [
        "# Print final accuracy and loss values\n",
        "print(f\"Final Training Accuracy: {train_accuracies[-1]:.4f}\")\n",
        "print(f\"Final Validation Accuracy: {val_accuracies[-1]:.4f}\")\n",
        "print(f\"Final Training Loss: {train_losses[-1]:.4f}\")\n",
        "print(f\"Final Validation Loss: {val_losses[-1]:4f}\")\n"
      ]
    },
    {
      "cell_type": "code",
      "execution_count": null,
      "metadata": {
        "id": "ECYujzAtJEez"
      },
      "outputs": [],
      "source": [
        "# 10. Plot Accuracy and Loss Graphs\n",
        "fig, axs = plt.subplots(1, 2, figsize=(10, 5))\n",
        "\n",
        "# Plot Accuracy\n",
        "axs[0].plot(train_accuracies, label='Train Accuracy', color='blue')\n",
        "axs[0].plot(val_accuracies, label='Validation Accuracy', color='red')\n",
        "axs[0].legend()\n",
        "axs[0].set_title('VGG16 Model Accuracy')\n",
        "axs[0].set_xlabel('Epochs')\n",
        "axs[0].set_ylabel('Accuracy')\n",
        "axs[0].grid(True)\n",
        "\n",
        "# Plot Loss\n",
        "axs[1].plot(train_losses, label='Train Loss', color='blue')\n",
        "axs[1].plot(val_losses, label='Validation Loss', color='red')\n",
        "axs[1].legend()\n",
        "axs[1].set_title('VGG16 Loss Curve')\n",
        "axs[1].set_xlabel('Epochs')\n",
        "axs[1].set_ylabel('Loss')\n",
        "axs[1].grid(True)\n",
        "\n",
        "plt.tight_layout()\n",
        "plt.show()"
      ]
    },
    {
      "cell_type": "code",
      "execution_count": null,
      "metadata": {
        "id": "mc23Y3c1UwpC"
      },
      "outputs": [],
      "source": [
        "# Predict class probabilities\n",
        "vgg16.eval()\n",
        "y_pred_probs = []\n",
        "y_true = []\n",
        "with torch.no_grad():\n",
        "    for inputs, labels in test_loader:\n",
        "        inputs, labels = inputs.to(device), labels.to(device)\n",
        "        outputs = vgg16(inputs)\n",
        "        y_pred_probs.extend(outputs.cpu().numpy())\n",
        "        y_true.extend(labels.cpu().numpy())\n",
        "\n",
        "y_pred = np.argmax(np.array(y_pred_probs), axis=1)\n",
        "y_true = np.array(y_true)\n"
      ]
    },
    {
      "cell_type": "code",
      "execution_count": null,
      "metadata": {
        "id": "PZR1H1F8U03u"
      },
      "outputs": [],
      "source": [
        "#metrics\n",
        "print(f'Accuracy: {accuracy_score(y_true, y_pred):.4f}')\n",
        "print(f'Precision: {precision_score(y_true, y_pred, average=\"weighted\"):.4f}')\n",
        "print(f'Recall: {recall_score(y_true, y_pred, average=\"weighted\"):.4f}')\n",
        "print(f'F1-score: {f1_score(y_true, y_pred, average=\"weighted\"):.4f}')\n",
        "print(classification_report(y_true, y_pred))\n",
        "\n",
        "cm = confusion_matrix(y_true, y_pred)\n",
        "disp = ConfusionMatrixDisplay(confusion_matrix=cm, display_labels=np.arange(10))\n",
        "fig, ax = plt.subplots(figsize=(8, 6))\n",
        "disp.plot(xticks_rotation='vertical', ax=ax,cmap=\"Blues\")\n",
        "plt.title(\"Confusion Matrix\")\n",
        "plt.xlabel(\"Predicted\")\n",
        "plt.ylabel(\"Actual\")\n",
        "plt.show()\n"
      ]
    }
  ],
  "metadata": {
    "accelerator": "GPU",
    "colab": {
      "gpuType": "A100",
      "machine_shape": "hm",
      "provenance": []
    },
    "kernelspec": {
      "display_name": "Python 3",
      "name": "python3"
    },
    "language_info": {
      "name": "python"
    }
  },
  "nbformat": 4,
  "nbformat_minor": 0
}
